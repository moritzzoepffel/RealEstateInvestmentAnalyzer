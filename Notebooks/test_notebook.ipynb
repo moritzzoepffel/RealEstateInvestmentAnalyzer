{
 "cells": [
  {
   "cell_type": "markdown",
   "source": [
    "# Process Data from MongoDB from Hamburg Airport\n",
    "\n",
    "## Imports"
   ],
   "metadata": {
    "collapsed": false
   }
  },
  {
   "cell_type": "code",
   "execution_count": null,
   "metadata": {
    "collapsed": true
   },
   "outputs": [],
   "source": [
    "import pandas as pd\n",
    "import Credentials.credentials as credentials\n",
    "import pymongo"
   ]
  },
  {
   "cell_type": "markdown",
   "source": [
    "## Connect to MongoDB"
   ],
   "metadata": {
    "collapsed": false
   }
  },
  {
   "cell_type": "code",
   "execution_count": null,
   "outputs": [],
   "source": [
    "client = pymongo.MongoClient(\n",
    "        f\"mongodb+srv://moritzzoepffel:{credentials.MONGO_DB_PW}@{credentials.MONGO_DB_DB}/?retryWrites=true&w=majority\")\n",
    "db = client.test"
   ],
   "metadata": {
    "collapsed": false,
    "pycharm": {
     "is_executing": true
    }
   }
  },
  {
   "cell_type": "markdown",
   "source": [
    "## Get Data from MongoDB"
   ],
   "metadata": {
    "collapsed": false
   }
  },
  {
   "cell_type": "code",
   "execution_count": null,
   "outputs": [],
   "source": [
    "db.list_collection_names()"
   ],
   "metadata": {
    "collapsed": false
   }
  },
  {
   "cell_type": "code",
   "execution_count": null,
   "outputs": [],
   "source": [
    "collection_arrivals = db['flights_arrivals']\n",
    "collection_departures = db['flights_departures']"
   ],
   "metadata": {
    "collapsed": false
   }
  },
  {
   "cell_type": "markdown",
   "source": [
    "## Convert to Pandas Dataframe"
   ],
   "metadata": {
    "collapsed": false
   }
  },
  {
   "cell_type": "code",
   "execution_count": null,
   "outputs": [],
   "source": [
    "df_arrivals = pd.DataFrame(list(collection_arrivals.find()))\n",
    "df_departures = pd.DataFrame(list(collection_departures.find()))"
   ],
   "metadata": {
    "collapsed": false
   }
  },
  {
   "cell_type": "markdown",
   "source": [
    "### Arrivals"
   ],
   "metadata": {
    "collapsed": false
   }
  },
  {
   "cell_type": "code",
   "execution_count": null,
   "outputs": [],
   "source": [
    "df_arrivals['plannedArrivalTime'] = pd.to_datetime(df_arrivals['plannedArrivalTime'])\n",
    "df_arrivals['actualArrivalTime'] = pd.to_datetime(df_arrivals['actualArrivalTime'])"
   ],
   "metadata": {
    "collapsed": false
   }
  },
  {
   "cell_type": "code",
   "execution_count": null,
   "outputs": [],
   "source": [
    "# only arrivals after today\n",
    "df_arrivals_future = df_arrivals[df_arrivals['plannedArrivalTime'] > pd.Timestamp.today().tz_localize('UTC')]\n",
    "df_arrivals_past = df_arrivals[df_arrivals['plannedArrivalTime'] < pd.Timestamp.today().tz_localize('UTC')]"
   ],
   "metadata": {
    "collapsed": false
   }
  },
  {
   "cell_type": "code",
   "execution_count": null,
   "outputs": [],
   "source": [
    "df_arrivals_past.info()"
   ],
   "metadata": {
    "collapsed": false
   }
  },
  {
   "cell_type": "code",
   "execution_count": null,
   "outputs": [],
   "source": [
    "df_departures_past"
   ],
   "metadata": {
    "collapsed": false
   }
  },
  {
   "cell_type": "code",
   "execution_count": null,
   "outputs": [],
   "source": [
    "df_departures['plannedDepartureTime'] = pd.to_datetime(df_departures['plannedDepartureTime'])\n",
    "df_departures['actualDepartureTime'] = pd.to_datetime(df_departures['actualDepartureTime'])\n",
    "df_departures[\"year\"] = df_departures[\"plannedDepartureTime\"].dt.year\n",
    "df_departures[\"month\"] = df_departures[\"plannedDepartureTime\"].dt.month\n",
    "df_departures[\"day\"] = df_departures[\"plannedDepartureTime\"].dt.day\n",
    "df_departures[\"hour\"] = df_departures[\"plannedDepartureTime\"].dt.hour\n",
    "df_departures[\"minute\"] = df_departures[\"plannedDepartureTime\"].dt.minute\n",
    "df_departures[\"second\"] = df_departures[\"plannedDepartureTime\"].dt.second\n",
    "df_departures[\"weekday\"] = df_departures[\"plannedDepartureTime\"].dt.weekday\n",
    "df_departures[\"week\"] = df_departures[\"plannedDepartureTime\"].dt.week\n",
    "df_departures[\"quarter\"] = df_departures[\"plannedDepartureTime\"].dt.quarter"
   ],
   "metadata": {
    "collapsed": false
   }
  },
  {
   "cell_type": "code",
   "execution_count": null,
   "outputs": [],
   "source": [
    "df_departures_past = df_departures[df_departures['plannedDepartureTime'] < pd.Timestamp.today().tz_localize('UTC')]"
   ],
   "metadata": {
    "collapsed": false
   }
  },
  {
   "cell_type": "code",
   "execution_count": null,
   "outputs": [],
   "source": [
    "#drop rows that have None in the actualDepartureTime\n",
    "df_departures_past = df_departures_past.dropna(subset=['actualDepartureTime'])"
   ],
   "metadata": {
    "collapsed": false
   }
  },
  {
   "cell_type": "code",
   "execution_count": null,
   "outputs": [],
   "source": [
    "df_departures_past.info()"
   ],
   "metadata": {
    "collapsed": false
   }
  },
  {
   "cell_type": "code",
   "execution_count": null,
   "outputs": [],
   "source": [
    "df_departures_past[\"delay\"] = df_departures_past[\"actualDepartureTime\"] - df_departures_past[\"plannedDepartureTime\"]\n",
    "df_departures_past[\"delay\"] = df_departures_past[\"delay\"].dt.total_seconds()"
   ],
   "metadata": {
    "collapsed": false
   }
  },
  {
   "cell_type": "code",
   "execution_count": null,
   "outputs": [],
   "source": [
    "# mean delay per airlineName\n",
    "mean_delay = pd.DataFrame(df_departures_past.groupby(\"airlineName\")[\"delay\"].mean())"
   ],
   "metadata": {
    "collapsed": false
   }
  },
  {
   "cell_type": "code",
   "execution_count": null,
   "outputs": [],
   "source": [
    "mean_delay"
   ],
   "metadata": {
    "collapsed": false
   }
  },
  {
   "cell_type": "code",
   "execution_count": null,
   "outputs": [],
   "source": [
    "df_departures_past = df_departures_past.merge(mean_delay, on=\"airlineName\")"
   ],
   "metadata": {
    "collapsed": false
   }
  },
  {
   "cell_type": "code",
   "execution_count": null,
   "outputs": [],
   "source": [
    "#rename delay_x to delay and delay_y to mean_delay\n",
    "df_departures_past = df_departures_past.rename(columns={\"delay_x\": \"delay\", \"delay_y\": \"mean_delay\"})"
   ],
   "metadata": {
    "collapsed": false
   }
  },
  {
   "cell_type": "code",
   "execution_count": null,
   "outputs": [],
   "source": [
    "df_departures_past"
   ],
   "metadata": {
    "collapsed": false
   }
  },
  {
   "cell_type": "markdown",
   "source": [
    "### Departures"
   ],
   "metadata": {
    "collapsed": false
   }
  },
  {
   "cell_type": "code",
   "execution_count": null,
   "outputs": [],
   "source": [
    "df_departures"
   ],
   "metadata": {
    "collapsed": false
   }
  },
  {
   "cell_type": "code",
   "execution_count": null,
   "outputs": [],
   "source": [
    "collection = db['flights_departures_past_cleaned']\n",
    "collection.insert_many(df_departures_past.to_dict('records'))"
   ],
   "metadata": {
    "collapsed": false
   }
  }
 ],
 "metadata": {
  "kernelspec": {
   "display_name": "Python 3",
   "language": "python",
   "name": "python3"
  },
  "language_info": {
   "codemirror_mode": {
    "name": "ipython",
    "version": 2
   },
   "file_extension": ".py",
   "mimetype": "text/x-python",
   "name": "python",
   "nbconvert_exporter": "python",
   "pygments_lexer": "ipython2",
   "version": "2.7.6"
  }
 },
 "nbformat": 4,
 "nbformat_minor": 0
}
